{
 "cells": [
  {
   "cell_type": "code",
   "execution_count": 1,
   "id": "e1ac0e47",
   "metadata": {
    "_cell_guid": "b1076dfc-b9ad-4769-8c92-a6c4dae69d19",
    "_uuid": "8f2839f25d086af736a60e9eeb907d3b93b6e0e5",
    "execution": {
     "iopub.execute_input": "2022-11-11T11:24:48.179022Z",
     "iopub.status.busy": "2022-11-11T11:24:48.178416Z",
     "iopub.status.idle": "2022-11-11T11:24:48.193359Z",
     "shell.execute_reply": "2022-11-11T11:24:48.192224Z"
    },
    "papermill": {
     "duration": 0.031635,
     "end_time": "2022-11-11T11:24:48.196214",
     "exception": false,
     "start_time": "2022-11-11T11:24:48.164579",
     "status": "completed"
    },
    "tags": []
   },
   "outputs": [
    {
     "name": "stdout",
     "output_type": "stream",
     "text": [
      "/kaggle/input/digit-recognizer/sample_submission.csv\n",
      "/kaggle/input/digit-recognizer/train.csv\n",
      "/kaggle/input/digit-recognizer/test.csv\n"
     ]
    }
   ],
   "source": [
    "# This Python 3 environment comes with many helpful analytics libraries installed\n",
    "# It is defined by the kaggle/python Docker image: https://github.com/kaggle/docker-python\n",
    "# For example, here's several helpful packages to load\n",
    "\n",
    "import numpy as np # linear algebra\n",
    "import pandas as pd # data processing, CSV file I/O (e.g. pd.read_csv)\n",
    "\n",
    "# Input data files are available in the read-only \"../input/\" directory\n",
    "# For example, running this (by clicking run or pressing Shift+Enter) will list all files under the input directory\n",
    "\n",
    "import os\n",
    "for dirname, _, filenames in os.walk('/kaggle/input'):\n",
    "    for filename in filenames:\n",
    "        print(os.path.join(dirname, filename))\n",
    "\n",
    "# You can write up to 20GB to the current directory (/kaggle/working/) that gets preserved as output when you create a version using \"Save & Run All\" \n",
    "# You can also write temporary files to /kaggle/temp/, but they won't be saved outside of the current session"
   ]
  },
  {
   "cell_type": "code",
   "execution_count": 2,
   "id": "bf61a0e8",
   "metadata": {
    "execution": {
     "iopub.execute_input": "2022-11-11T11:24:48.216257Z",
     "iopub.status.busy": "2022-11-11T11:24:48.215529Z",
     "iopub.status.idle": "2022-11-11T11:24:54.571942Z",
     "shell.execute_reply": "2022-11-11T11:24:54.570450Z"
    },
    "papermill": {
     "duration": 6.369857,
     "end_time": "2022-11-11T11:24:54.575290",
     "exception": false,
     "start_time": "2022-11-11T11:24:48.205433",
     "status": "completed"
    },
    "tags": []
   },
   "outputs": [],
   "source": [
    "\n",
    "\n",
    "import tensorflow as tf\n",
    "from tensorflow import keras\n",
    "import matplotlib.pyplot as plt\n",
    "%matplotlib inline\n",
    "import numpy as np\n",
    "\n"
   ]
  },
  {
   "cell_type": "code",
   "execution_count": 3,
   "id": "3a022734",
   "metadata": {
    "execution": {
     "iopub.execute_input": "2022-11-11T11:24:54.591549Z",
     "iopub.status.busy": "2022-11-11T11:24:54.590137Z",
     "iopub.status.idle": "2022-11-11T11:25:00.522603Z",
     "shell.execute_reply": "2022-11-11T11:25:00.521293Z"
    },
    "papermill": {
     "duration": 5.943771,
     "end_time": "2022-11-11T11:25:00.525918",
     "exception": false,
     "start_time": "2022-11-11T11:24:54.582147",
     "status": "completed"
    },
    "tags": []
   },
   "outputs": [],
   "source": [
    "train_dir = \"../input/digit-recognizer/train.csv\"\n",
    "test_dir = \"../input/digit-recognizer/test.csv\"\n",
    "\n",
    "df_train = pd.read_csv(train_dir)\n",
    "\n",
    "df_test=pd.read_csv(test_dir)"
   ]
  },
  {
   "cell_type": "code",
   "execution_count": 4,
   "id": "7a9fcedb",
   "metadata": {
    "execution": {
     "iopub.execute_input": "2022-11-11T11:25:00.542675Z",
     "iopub.status.busy": "2022-11-11T11:25:00.541063Z",
     "iopub.status.idle": "2022-11-11T11:25:00.578923Z",
     "shell.execute_reply": "2022-11-11T11:25:00.577483Z"
    },
    "papermill": {
     "duration": 0.049013,
     "end_time": "2022-11-11T11:25:00.582049",
     "exception": false,
     "start_time": "2022-11-11T11:25:00.533036",
     "status": "completed"
    },
    "tags": []
   },
   "outputs": [
    {
     "data": {
      "text/html": [
       "<div>\n",
       "<style scoped>\n",
       "    .dataframe tbody tr th:only-of-type {\n",
       "        vertical-align: middle;\n",
       "    }\n",
       "\n",
       "    .dataframe tbody tr th {\n",
       "        vertical-align: top;\n",
       "    }\n",
       "\n",
       "    .dataframe thead th {\n",
       "        text-align: right;\n",
       "    }\n",
       "</style>\n",
       "<table border=\"1\" class=\"dataframe\">\n",
       "  <thead>\n",
       "    <tr style=\"text-align: right;\">\n",
       "      <th></th>\n",
       "      <th>pixel0</th>\n",
       "      <th>pixel1</th>\n",
       "      <th>pixel2</th>\n",
       "      <th>pixel3</th>\n",
       "      <th>pixel4</th>\n",
       "      <th>pixel5</th>\n",
       "      <th>pixel6</th>\n",
       "      <th>pixel7</th>\n",
       "      <th>pixel8</th>\n",
       "      <th>pixel9</th>\n",
       "      <th>...</th>\n",
       "      <th>pixel774</th>\n",
       "      <th>pixel775</th>\n",
       "      <th>pixel776</th>\n",
       "      <th>pixel777</th>\n",
       "      <th>pixel778</th>\n",
       "      <th>pixel779</th>\n",
       "      <th>pixel780</th>\n",
       "      <th>pixel781</th>\n",
       "      <th>pixel782</th>\n",
       "      <th>pixel783</th>\n",
       "    </tr>\n",
       "  </thead>\n",
       "  <tbody>\n",
       "    <tr>\n",
       "      <th>0</th>\n",
       "      <td>0</td>\n",
       "      <td>0</td>\n",
       "      <td>0</td>\n",
       "      <td>0</td>\n",
       "      <td>0</td>\n",
       "      <td>0</td>\n",
       "      <td>0</td>\n",
       "      <td>0</td>\n",
       "      <td>0</td>\n",
       "      <td>0</td>\n",
       "      <td>...</td>\n",
       "      <td>0</td>\n",
       "      <td>0</td>\n",
       "      <td>0</td>\n",
       "      <td>0</td>\n",
       "      <td>0</td>\n",
       "      <td>0</td>\n",
       "      <td>0</td>\n",
       "      <td>0</td>\n",
       "      <td>0</td>\n",
       "      <td>0</td>\n",
       "    </tr>\n",
       "    <tr>\n",
       "      <th>1</th>\n",
       "      <td>0</td>\n",
       "      <td>0</td>\n",
       "      <td>0</td>\n",
       "      <td>0</td>\n",
       "      <td>0</td>\n",
       "      <td>0</td>\n",
       "      <td>0</td>\n",
       "      <td>0</td>\n",
       "      <td>0</td>\n",
       "      <td>0</td>\n",
       "      <td>...</td>\n",
       "      <td>0</td>\n",
       "      <td>0</td>\n",
       "      <td>0</td>\n",
       "      <td>0</td>\n",
       "      <td>0</td>\n",
       "      <td>0</td>\n",
       "      <td>0</td>\n",
       "      <td>0</td>\n",
       "      <td>0</td>\n",
       "      <td>0</td>\n",
       "    </tr>\n",
       "    <tr>\n",
       "      <th>2</th>\n",
       "      <td>0</td>\n",
       "      <td>0</td>\n",
       "      <td>0</td>\n",
       "      <td>0</td>\n",
       "      <td>0</td>\n",
       "      <td>0</td>\n",
       "      <td>0</td>\n",
       "      <td>0</td>\n",
       "      <td>0</td>\n",
       "      <td>0</td>\n",
       "      <td>...</td>\n",
       "      <td>0</td>\n",
       "      <td>0</td>\n",
       "      <td>0</td>\n",
       "      <td>0</td>\n",
       "      <td>0</td>\n",
       "      <td>0</td>\n",
       "      <td>0</td>\n",
       "      <td>0</td>\n",
       "      <td>0</td>\n",
       "      <td>0</td>\n",
       "    </tr>\n",
       "    <tr>\n",
       "      <th>3</th>\n",
       "      <td>0</td>\n",
       "      <td>0</td>\n",
       "      <td>0</td>\n",
       "      <td>0</td>\n",
       "      <td>0</td>\n",
       "      <td>0</td>\n",
       "      <td>0</td>\n",
       "      <td>0</td>\n",
       "      <td>0</td>\n",
       "      <td>0</td>\n",
       "      <td>...</td>\n",
       "      <td>0</td>\n",
       "      <td>0</td>\n",
       "      <td>0</td>\n",
       "      <td>0</td>\n",
       "      <td>0</td>\n",
       "      <td>0</td>\n",
       "      <td>0</td>\n",
       "      <td>0</td>\n",
       "      <td>0</td>\n",
       "      <td>0</td>\n",
       "    </tr>\n",
       "    <tr>\n",
       "      <th>4</th>\n",
       "      <td>0</td>\n",
       "      <td>0</td>\n",
       "      <td>0</td>\n",
       "      <td>0</td>\n",
       "      <td>0</td>\n",
       "      <td>0</td>\n",
       "      <td>0</td>\n",
       "      <td>0</td>\n",
       "      <td>0</td>\n",
       "      <td>0</td>\n",
       "      <td>...</td>\n",
       "      <td>0</td>\n",
       "      <td>0</td>\n",
       "      <td>0</td>\n",
       "      <td>0</td>\n",
       "      <td>0</td>\n",
       "      <td>0</td>\n",
       "      <td>0</td>\n",
       "      <td>0</td>\n",
       "      <td>0</td>\n",
       "      <td>0</td>\n",
       "    </tr>\n",
       "    <tr>\n",
       "      <th>...</th>\n",
       "      <td>...</td>\n",
       "      <td>...</td>\n",
       "      <td>...</td>\n",
       "      <td>...</td>\n",
       "      <td>...</td>\n",
       "      <td>...</td>\n",
       "      <td>...</td>\n",
       "      <td>...</td>\n",
       "      <td>...</td>\n",
       "      <td>...</td>\n",
       "      <td>...</td>\n",
       "      <td>...</td>\n",
       "      <td>...</td>\n",
       "      <td>...</td>\n",
       "      <td>...</td>\n",
       "      <td>...</td>\n",
       "      <td>...</td>\n",
       "      <td>...</td>\n",
       "      <td>...</td>\n",
       "      <td>...</td>\n",
       "      <td>...</td>\n",
       "    </tr>\n",
       "    <tr>\n",
       "      <th>27995</th>\n",
       "      <td>0</td>\n",
       "      <td>0</td>\n",
       "      <td>0</td>\n",
       "      <td>0</td>\n",
       "      <td>0</td>\n",
       "      <td>0</td>\n",
       "      <td>0</td>\n",
       "      <td>0</td>\n",
       "      <td>0</td>\n",
       "      <td>0</td>\n",
       "      <td>...</td>\n",
       "      <td>0</td>\n",
       "      <td>0</td>\n",
       "      <td>0</td>\n",
       "      <td>0</td>\n",
       "      <td>0</td>\n",
       "      <td>0</td>\n",
       "      <td>0</td>\n",
       "      <td>0</td>\n",
       "      <td>0</td>\n",
       "      <td>0</td>\n",
       "    </tr>\n",
       "    <tr>\n",
       "      <th>27996</th>\n",
       "      <td>0</td>\n",
       "      <td>0</td>\n",
       "      <td>0</td>\n",
       "      <td>0</td>\n",
       "      <td>0</td>\n",
       "      <td>0</td>\n",
       "      <td>0</td>\n",
       "      <td>0</td>\n",
       "      <td>0</td>\n",
       "      <td>0</td>\n",
       "      <td>...</td>\n",
       "      <td>0</td>\n",
       "      <td>0</td>\n",
       "      <td>0</td>\n",
       "      <td>0</td>\n",
       "      <td>0</td>\n",
       "      <td>0</td>\n",
       "      <td>0</td>\n",
       "      <td>0</td>\n",
       "      <td>0</td>\n",
       "      <td>0</td>\n",
       "    </tr>\n",
       "    <tr>\n",
       "      <th>27997</th>\n",
       "      <td>0</td>\n",
       "      <td>0</td>\n",
       "      <td>0</td>\n",
       "      <td>0</td>\n",
       "      <td>0</td>\n",
       "      <td>0</td>\n",
       "      <td>0</td>\n",
       "      <td>0</td>\n",
       "      <td>0</td>\n",
       "      <td>0</td>\n",
       "      <td>...</td>\n",
       "      <td>0</td>\n",
       "      <td>0</td>\n",
       "      <td>0</td>\n",
       "      <td>0</td>\n",
       "      <td>0</td>\n",
       "      <td>0</td>\n",
       "      <td>0</td>\n",
       "      <td>0</td>\n",
       "      <td>0</td>\n",
       "      <td>0</td>\n",
       "    </tr>\n",
       "    <tr>\n",
       "      <th>27998</th>\n",
       "      <td>0</td>\n",
       "      <td>0</td>\n",
       "      <td>0</td>\n",
       "      <td>0</td>\n",
       "      <td>0</td>\n",
       "      <td>0</td>\n",
       "      <td>0</td>\n",
       "      <td>0</td>\n",
       "      <td>0</td>\n",
       "      <td>0</td>\n",
       "      <td>...</td>\n",
       "      <td>0</td>\n",
       "      <td>0</td>\n",
       "      <td>0</td>\n",
       "      <td>0</td>\n",
       "      <td>0</td>\n",
       "      <td>0</td>\n",
       "      <td>0</td>\n",
       "      <td>0</td>\n",
       "      <td>0</td>\n",
       "      <td>0</td>\n",
       "    </tr>\n",
       "    <tr>\n",
       "      <th>27999</th>\n",
       "      <td>0</td>\n",
       "      <td>0</td>\n",
       "      <td>0</td>\n",
       "      <td>0</td>\n",
       "      <td>0</td>\n",
       "      <td>0</td>\n",
       "      <td>0</td>\n",
       "      <td>0</td>\n",
       "      <td>0</td>\n",
       "      <td>0</td>\n",
       "      <td>...</td>\n",
       "      <td>0</td>\n",
       "      <td>0</td>\n",
       "      <td>0</td>\n",
       "      <td>0</td>\n",
       "      <td>0</td>\n",
       "      <td>0</td>\n",
       "      <td>0</td>\n",
       "      <td>0</td>\n",
       "      <td>0</td>\n",
       "      <td>0</td>\n",
       "    </tr>\n",
       "  </tbody>\n",
       "</table>\n",
       "<p>28000 rows × 784 columns</p>\n",
       "</div>"
      ],
      "text/plain": [
       "       pixel0  pixel1  pixel2  pixel3  pixel4  pixel5  pixel6  pixel7  pixel8  \\\n",
       "0           0       0       0       0       0       0       0       0       0   \n",
       "1           0       0       0       0       0       0       0       0       0   \n",
       "2           0       0       0       0       0       0       0       0       0   \n",
       "3           0       0       0       0       0       0       0       0       0   \n",
       "4           0       0       0       0       0       0       0       0       0   \n",
       "...       ...     ...     ...     ...     ...     ...     ...     ...     ...   \n",
       "27995       0       0       0       0       0       0       0       0       0   \n",
       "27996       0       0       0       0       0       0       0       0       0   \n",
       "27997       0       0       0       0       0       0       0       0       0   \n",
       "27998       0       0       0       0       0       0       0       0       0   \n",
       "27999       0       0       0       0       0       0       0       0       0   \n",
       "\n",
       "       pixel9  ...  pixel774  pixel775  pixel776  pixel777  pixel778  \\\n",
       "0           0  ...         0         0         0         0         0   \n",
       "1           0  ...         0         0         0         0         0   \n",
       "2           0  ...         0         0         0         0         0   \n",
       "3           0  ...         0         0         0         0         0   \n",
       "4           0  ...         0         0         0         0         0   \n",
       "...       ...  ...       ...       ...       ...       ...       ...   \n",
       "27995       0  ...         0         0         0         0         0   \n",
       "27996       0  ...         0         0         0         0         0   \n",
       "27997       0  ...         0         0         0         0         0   \n",
       "27998       0  ...         0         0         0         0         0   \n",
       "27999       0  ...         0         0         0         0         0   \n",
       "\n",
       "       pixel779  pixel780  pixel781  pixel782  pixel783  \n",
       "0             0         0         0         0         0  \n",
       "1             0         0         0         0         0  \n",
       "2             0         0         0         0         0  \n",
       "3             0         0         0         0         0  \n",
       "4             0         0         0         0         0  \n",
       "...         ...       ...       ...       ...       ...  \n",
       "27995         0         0         0         0         0  \n",
       "27996         0         0         0         0         0  \n",
       "27997         0         0         0         0         0  \n",
       "27998         0         0         0         0         0  \n",
       "27999         0         0         0         0         0  \n",
       "\n",
       "[28000 rows x 784 columns]"
      ]
     },
     "execution_count": 4,
     "metadata": {},
     "output_type": "execute_result"
    }
   ],
   "source": [
    "df_test"
   ]
  },
  {
   "cell_type": "code",
   "execution_count": 5,
   "id": "9fcd487d",
   "metadata": {
    "execution": {
     "iopub.execute_input": "2022-11-11T11:25:00.599507Z",
     "iopub.status.busy": "2022-11-11T11:25:00.598987Z",
     "iopub.status.idle": "2022-11-11T11:25:00.606671Z",
     "shell.execute_reply": "2022-11-11T11:25:00.605041Z"
    },
    "papermill": {
     "duration": 0.019697,
     "end_time": "2022-11-11T11:25:00.609951",
     "exception": false,
     "start_time": "2022-11-11T11:25:00.590254",
     "status": "completed"
    },
    "tags": []
   },
   "outputs": [],
   "source": [
    "def show_image(data,m):\n",
    "    img=((df_train.iloc[m][1:]).values[:]).reshape(28,28)\n",
    "    lab=(df_train.iloc[m][0])\n",
    "    \n",
    "    return img / 255,lab"
   ]
  },
  {
   "cell_type": "code",
   "execution_count": 6,
   "id": "8239c6d9",
   "metadata": {
    "execution": {
     "iopub.execute_input": "2022-11-11T11:25:00.626625Z",
     "iopub.status.busy": "2022-11-11T11:25:00.626177Z",
     "iopub.status.idle": "2022-11-11T11:25:00.868450Z",
     "shell.execute_reply": "2022-11-11T11:25:00.867111Z"
    },
    "papermill": {
     "duration": 0.253762,
     "end_time": "2022-11-11T11:25:00.871321",
     "exception": false,
     "start_time": "2022-11-11T11:25:00.617559",
     "status": "completed"
    },
    "tags": []
   },
   "outputs": [
    {
     "data": {
      "image/png": "[encoded data removed]",
      "text/plain": [
       "<Figure size 432x288 with 1 Axes>"
      ]
     },
     "metadata": {
      "needs_background": "light"
     },
     "output_type": "display_data"
    }
   ],
   "source": [
    "img,lab=show_image(df_train,18)\n",
    "\n",
    "\n",
    "plt.title(\"Digit: {}\".format(lab))\n",
    "plt.imshow(img)\n",
    "plt.show()"
   ]
  },
  {
   "cell_type": "code",
   "execution_count": 7,
   "id": "2b0f72d3",
   "metadata": {
    "execution": {
     "iopub.execute_input": "2022-11-11T11:25:00.887899Z",
     "iopub.status.busy": "2022-11-11T11:25:00.887375Z",
     "iopub.status.idle": "2022-11-11T11:25:01.013063Z",
     "shell.execute_reply": "2022-11-11T11:25:01.011395Z"
    },
    "papermill": {
     "duration": 0.138557,
     "end_time": "2022-11-11T11:25:01.017247",
     "exception": false,
     "start_time": "2022-11-11T11:25:00.878690",
     "status": "completed"
    },
    "tags": []
   },
   "outputs": [],
   "source": [
    "y_train = df_train['label']\n",
    "X_train = df_train.drop(columns=['label'])"
   ]
  },
  {
   "cell_type": "code",
   "execution_count": 8,
   "id": "76118778",
   "metadata": {
    "execution": {
     "iopub.execute_input": "2022-11-11T11:25:01.040164Z",
     "iopub.status.busy": "2022-11-11T11:25:01.039695Z",
     "iopub.status.idle": "2022-11-11T11:25:02.065498Z",
     "shell.execute_reply": "2022-11-11T11:25:02.064221Z"
    },
    "papermill": {
     "duration": 1.041264,
     "end_time": "2022-11-11T11:25:02.068384",
     "exception": false,
     "start_time": "2022-11-11T11:25:01.027120",
     "status": "completed"
    },
    "tags": []
   },
   "outputs": [],
   "source": [
    "from sklearn.model_selection import train_test_split\n",
    "\n",
    "\n",
    "X_train, X_val, y_train, y_val = train_test_split(X_train, y_train, test_size=0.25, shuffle=False)"
   ]
  },
  {
   "cell_type": "code",
   "execution_count": 9,
   "id": "4f2a47d0",
   "metadata": {
    "execution": {
     "iopub.execute_input": "2022-11-11T11:25:02.085165Z",
     "iopub.status.busy": "2022-11-11T11:25:02.084703Z",
     "iopub.status.idle": "2022-11-11T11:25:02.155553Z",
     "shell.execute_reply": "2022-11-11T11:25:02.154341Z"
    },
    "papermill": {
     "duration": 0.082373,
     "end_time": "2022-11-11T11:25:02.158352",
     "exception": false,
     "start_time": "2022-11-11T11:25:02.075979",
     "status": "completed"
    },
    "tags": []
   },
   "outputs": [],
   "source": [
    "X_train = X_train / 255.0\n",
    "X_val = X_val / 255.0\n",
    "\n"
   ]
  },
  {
   "cell_type": "code",
   "execution_count": 10,
   "id": "62508189",
   "metadata": {
    "execution": {
     "iopub.execute_input": "2022-11-11T11:25:02.176126Z",
     "iopub.status.busy": "2022-11-11T11:25:02.175692Z",
     "iopub.status.idle": "2022-11-11T11:25:02.181796Z",
     "shell.execute_reply": "2022-11-11T11:25:02.180280Z"
    },
    "papermill": {
     "duration": 0.017971,
     "end_time": "2022-11-11T11:25:02.184613",
     "exception": false,
     "start_time": "2022-11-11T11:25:02.166642",
     "status": "completed"
    },
    "tags": []
   },
   "outputs": [],
   "source": [
    "x=X_train.values.reshape(-1,28,28,1)\n",
    "y=y_train.values\n",
    "\n",
    "xval=X_val.values.reshape(-1,28,28,1)\n",
    "yval=y_val.values\n"
   ]
  },
  {
   "cell_type": "code",
   "execution_count": 11,
   "id": "b39aa0c9",
   "metadata": {
    "execution": {
     "iopub.execute_input": "2022-11-11T11:25:02.201605Z",
     "iopub.status.busy": "2022-11-11T11:25:02.201183Z",
     "iopub.status.idle": "2022-11-11T11:25:02.206597Z",
     "shell.execute_reply": "2022-11-11T11:25:02.204849Z"
    },
    "papermill": {
     "duration": 0.01712,
     "end_time": "2022-11-11T11:25:02.209123",
     "exception": false,
     "start_time": "2022-11-11T11:25:02.192003",
     "status": "completed"
    },
    "tags": []
   },
   "outputs": [],
   "source": [
    "\n",
    "# Y_train  = pd.get_dummies(y_train).values\n",
    "# Y_val  = pd.get_dummies(y_val).values\n",
    "# Y_train.shape"
   ]
  },
  {
   "cell_type": "code",
   "execution_count": 12,
   "id": "66ce24e1",
   "metadata": {
    "execution": {
     "iopub.execute_input": "2022-11-11T11:25:02.226581Z",
     "iopub.status.busy": "2022-11-11T11:25:02.225469Z",
     "iopub.status.idle": "2022-11-11T11:25:03.750136Z",
     "shell.execute_reply": "2022-11-11T11:25:03.748868Z"
    },
    "papermill": {
     "duration": 1.53879,
     "end_time": "2022-11-11T11:25:03.755312",
     "exception": false,
     "start_time": "2022-11-11T11:25:02.216522",
     "status": "completed"
    },
    "tags": []
   },
   "outputs": [
    {
     "name": "stdout",
     "output_type": "stream",
     "text": [
      "Model: \"HimBA\"\n",
      "_________________________________________________________________\n",
      "Layer (type)                 Output Shape              Param #   \n",
      "=================================================================\n",
      "Conv2D_1 (Conv2D)            (None, 28, 28, 16)        160       \n",
      "_________________________________________________________________\n",
      "MaxPool_1 (MaxPooling2D)     (None, 14, 14, 16)        0         \n",
      "_________________________________________________________________\n",
      "Conv2D_2 (Conv2D)            (None, 14, 14, 32)        4640      \n",
      "_________________________________________________________________\n",
      "MaxPool_2 (MaxPooling2D)     (None, 7, 7, 32)          0         \n",
      "_________________________________________________________________\n",
      "Conv2D_3 (Conv2D)            (None, 7, 7, 64)          18496     \n",
      "_________________________________________________________________\n",
      "MaxPool_3 (MaxPooling2D)     (None, 3, 3, 64)          0         \n",
      "_________________________________________________________________\n",
      "Conv2D_4 (Conv2D)            (None, 3, 3, 128)         73856     \n",
      "_________________________________________________________________\n",
      "MaxPool_4 (MaxPooling2D)     (None, 1, 1, 128)         0         \n",
      "_________________________________________________________________\n",
      "FL (Flatten)                 (None, 128)               0         \n",
      "_________________________________________________________________\n",
      "FC_layer (Dense)             (None, 512)               66048     \n",
      "_________________________________________________________________\n",
      "dense (Dense)                (None, 10)                5130      \n",
      "=================================================================\n",
      "Total params: 168,330\n",
      "Trainable params: 168,330\n",
      "Non-trainable params: 0\n",
      "_________________________________________________________________\n"
     ]
    },
    {
     "name": "stderr",
     "output_type": "stream",
     "text": [
      "2022-11-11 11:25:03.615490: I tensorflow/core/common_runtime/process_util.cc:146] Creating new thread pool with default inter op setting: 2. Tune using inter_op_parallelism_threads for best performance.\n"
     ]
    }
   ],
   "source": [
    "model1=keras.Sequential([\n",
    "    keras.layers.Conv2D(16,(3,3),padding=\"same\",activation='relu',input_shape=(28,28,1),name='Conv2D_1'),\n",
    "    keras.layers.MaxPooling2D(2,2,name='MaxPool_1'),\n",
    "    \n",
    "    keras.layers.Conv2D(32,(3,3),padding=\"same\",activation='relu',input_shape=(28,28,1),name='Conv2D_2'),\n",
    "    keras.layers.MaxPooling2D(2,2,name='MaxPool_2'),\n",
    "    \n",
    "    keras.layers.Conv2D(64,(3,3),padding=\"same\",activation='relu',input_shape=(28,28,1),name='Conv2D_3'),\n",
    "    keras.layers.MaxPooling2D(2,2,name='MaxPool_3'),\n",
    "    \n",
    "    keras.layers.Conv2D(128,(3,3),padding=\"same\",activation='relu',input_shape=(28,28,1),name='Conv2D_4'),\n",
    "    keras.layers.MaxPooling2D(2,2,name='MaxPool_4'),\n",
    "    \n",
    "    keras.layers.Flatten(name='FL'),\n",
    "    keras.layers.Dense(512,activation='relu',name='FC_layer'),\n",
    "    keras.layers.Dense(10,activation='softmax')\n",
    "    \n",
    "])\n",
    "\n",
    "model1._name = \"HimBA\"\n",
    "\n",
    "model1.summary()\n",
    "\n"
   ]
  },
  {
   "cell_type": "code",
   "execution_count": 13,
   "id": "b6a95668",
   "metadata": {
    "execution": {
     "iopub.execute_input": "2022-11-11T11:25:03.773858Z",
     "iopub.status.busy": "2022-11-11T11:25:03.773406Z",
     "iopub.status.idle": "2022-11-11T11:28:26.720185Z",
     "shell.execute_reply": "2022-11-11T11:28:26.718768Z"
    },
    "papermill": {
     "duration": 202.959456,
     "end_time": "2022-11-11T11:28:26.723140",
     "exception": false,
     "start_time": "2022-11-11T11:25:03.763684",
     "status": "completed"
    },
    "tags": []
   },
   "outputs": [
    {
     "name": "stderr",
     "output_type": "stream",
     "text": [
      "2022-11-11 11:25:04.042551: I tensorflow/compiler/mlir/mlir_graph_optimization_pass.cc:185] None of the MLIR Optimization Passes are enabled (registered 2)\n"
     ]
    },
    {
     "name": "stdout",
     "output_type": "stream",
     "text": [
      "Epoch 1/10\n",
      "985/985 [==============================] - 18s 17ms/step - loss: 0.2456 - accuracy: 0.9213 - val_loss: 0.0709 - val_accuracy: 0.9766\n",
      "Epoch 2/10\n",
      "985/985 [==============================] - 16s 16ms/step - loss: 0.0687 - accuracy: 0.9787 - val_loss: 0.0597 - val_accuracy: 0.9810\n",
      "Epoch 3/10\n",
      "985/985 [==============================] - 17s 17ms/step - loss: 0.0465 - accuracy: 0.9857 - val_loss: 0.0637 - val_accuracy: 0.9810\n",
      "Epoch 4/10\n",
      "985/985 [==============================] - 18s 18ms/step - loss: 0.0371 - accuracy: 0.9883 - val_loss: 0.0531 - val_accuracy: 0.9832\n",
      "Epoch 5/10\n",
      "985/985 [==============================] - 16s 16ms/step - loss: 0.0308 - accuracy: 0.9900 - val_loss: 0.0467 - val_accuracy: 0.9856\n",
      "Epoch 6/10\n",
      "985/985 [==============================] - 18s 18ms/step - loss: 0.0252 - accuracy: 0.9926 - val_loss: 0.0502 - val_accuracy: 0.9870\n",
      "Epoch 7/10\n",
      "985/985 [==============================] - 17s 17ms/step - loss: 0.0220 - accuracy: 0.9927 - val_loss: 0.0534 - val_accuracy: 0.9867\n",
      "Epoch 8/10\n",
      "985/985 [==============================] - 17s 17ms/step - loss: 0.0191 - accuracy: 0.9941 - val_loss: 0.0460 - val_accuracy: 0.9894\n",
      "Epoch 9/10\n",
      "985/985 [==============================] - 16s 16ms/step - loss: 0.0169 - accuracy: 0.9951 - val_loss: 0.0531 - val_accuracy: 0.9874\n",
      "Epoch 10/10\n",
      "985/985 [==============================] - 18s 18ms/step - loss: 0.0144 - accuracy: 0.9953 - val_loss: 0.0573 - val_accuracy: 0.9865\n"
     ]
    }
   ],
   "source": [
    "\n",
    "######################\n",
    "opt=keras.optimizers.Adam(learning_rate=0.001)\n",
    "model1.compile(loss='sparse_categorical_crossentropy',optimizer=opt,metrics=[\"accuracy\"])\n",
    "\n",
    "################  fit\n",
    "\n",
    "hist=model1.fit(x,y,validation_data = (xval, yval),epochs=10)"
   ]
  },
  {
   "cell_type": "markdown",
   "id": "84d4b69d",
   "metadata": {
    "execution": {
     "iopub.execute_input": "2022-11-11T10:14:29.905157Z",
     "iopub.status.busy": "2022-11-11T10:14:29.904908Z",
     "iopub.status.idle": "2022-11-11T10:14:35.143901Z",
     "shell.execute_reply": "2022-11-11T10:14:35.142768Z",
     "shell.execute_reply.started": "2022-11-11T10:14:29.905135Z"
    },
    "papermill": {
     "duration": 0.169563,
     "end_time": "2022-11-11T11:28:27.063217",
     "exception": false,
     "start_time": "2022-11-11T11:28:26.893654",
     "status": "completed"
    },
    "tags": []
   },
   "source": [
    "model1= keras.Sequential([\n",
    "    keras.layers.Dense(10,input_shape=(len(X_train.iloc[0,:]),), activation='sigmoid')\n",
    "])\n",
    "\n",
    "\n",
    "model1.compile(optimizer='adam',\n",
    "             loss='sparse_categorical_crossentropy',\n",
    "             metrics=['accuracy'])\n",
    "\n",
    "hist=model1.fit(X_train,y_train.values[:],validation_data = (X_val, y_val),epochs=5)"
   ]
  },
  {
   "cell_type": "code",
   "execution_count": null,
   "id": "6c2ae452",
   "metadata": {
    "execution": {
     "iopub.status.busy": "2022-11-11T10:14:35.144599Z",
     "iopub.status.idle": "2022-11-11T10:14:35.144911Z",
     "shell.execute_reply": "2022-11-11T10:14:35.144776Z",
     "shell.execute_reply.started": "2022-11-11T10:14:35.144760Z"
    },
    "papermill": {
     "duration": 0.167318,
     "end_time": "2022-11-11T11:28:27.401557",
     "exception": false,
     "start_time": "2022-11-11T11:28:27.234239",
     "status": "completed"
    },
    "tags": []
   },
   "outputs": [],
   "source": []
  },
  {
   "cell_type": "code",
   "execution_count": 14,
   "id": "8e83f2d2",
   "metadata": {
    "execution": {
     "iopub.execute_input": "2022-11-11T11:28:27.810996Z",
     "iopub.status.busy": "2022-11-11T11:28:27.810180Z",
     "iopub.status.idle": "2022-11-11T11:28:28.062695Z",
     "shell.execute_reply": "2022-11-11T11:28:28.061476Z"
    },
    "papermill": {
     "duration": 0.499145,
     "end_time": "2022-11-11T11:28:28.065516",
     "exception": false,
     "start_time": "2022-11-11T11:28:27.566371",
     "status": "completed"
    },
    "tags": []
   },
   "outputs": [
    {
     "data": {
      "image/png": "[encoded data removed]",
      "text/plain": [
       "<Figure size 432x288 with 1 Axes>"
      ]
     },
     "metadata": {
      "needs_background": "light"
     },
     "output_type": "display_data"
    }
   ],
   "source": [
    "plt.plot(hist.history[\"loss\"])\n",
    "plt.plot(hist.history['accuracy'])\n",
    "plt.plot(hist.history['val_loss'])\n",
    "plt.plot(hist.history['val_accuracy'])\n",
    "plt.title(\"model accuracy\")\n",
    "plt.ylabel(\"Accuracy\")\n",
    "plt.xlabel(\"Epoch\")\n",
    "plt.legend([\"Loss\",\"Accuracy\",\"Validation Loss\",\"Validation Accuracy\"])\n",
    "plt.show()"
   ]
  },
  {
   "cell_type": "code",
   "execution_count": null,
   "id": "3d1beefe",
   "metadata": {
    "papermill": {
     "duration": 0.171116,
     "end_time": "2022-11-11T11:28:28.405512",
     "exception": false,
     "start_time": "2022-11-11T11:28:28.234396",
     "status": "completed"
    },
    "tags": []
   },
   "outputs": [],
   "source": []
  },
  {
   "cell_type": "code",
   "execution_count": 15,
   "id": "6d9e5f54",
   "metadata": {
    "execution": {
     "iopub.execute_input": "2022-11-11T11:28:28.741494Z",
     "iopub.status.busy": "2022-11-11T11:28:28.740856Z",
     "iopub.status.idle": "2022-11-11T11:28:30.713501Z",
     "shell.execute_reply": "2022-11-11T11:28:30.712229Z"
    },
    "papermill": {
     "duration": 2.145027,
     "end_time": "2022-11-11T11:28:30.716433",
     "exception": false,
     "start_time": "2022-11-11T11:28:28.571406",
     "status": "completed"
    },
    "tags": []
   },
   "outputs": [],
   "source": [
    "\n",
    "y_pred=model1.predict(xval)\n",
    "y_predicted_labels = [np.argmax(i) for i in y_pred]"
   ]
  },
  {
   "cell_type": "code",
   "execution_count": 16,
   "id": "c0085f26",
   "metadata": {
    "execution": {
     "iopub.execute_input": "2022-11-11T11:28:31.069690Z",
     "iopub.status.busy": "2022-11-11T11:28:31.068896Z",
     "iopub.status.idle": "2022-11-11T11:28:32.033026Z",
     "shell.execute_reply": "2022-11-11T11:28:32.031625Z"
    },
    "papermill": {
     "duration": 1.140472,
     "end_time": "2022-11-11T11:28:32.035363",
     "exception": false,
     "start_time": "2022-11-11T11:28:30.894891",
     "status": "completed"
    },
    "tags": []
   },
   "outputs": [
    {
     "data": {
      "text/plain": [
       "Text(69.0, 0.5, 'Truth')"
      ]
     },
     "execution_count": 16,
     "metadata": {},
     "output_type": "execute_result"
    },
    {
     "data": {
      "image/png": "[encoded data removed]",
      "text/plain": [
       "<Figure size 720x504 with 2 Axes>"
      ]
     },
     "metadata": {
      "needs_background": "light"
     },
     "output_type": "display_data"
    }
   ],
   "source": [
    "cm = tf.math.confusion_matrix(labels=yval,predictions=y_predicted_labels)\n",
    "\n",
    "import seaborn as sn\n",
    "plt.figure(figsize = (10,7))\n",
    "sn.heatmap(cm, annot=True, fmt='d')\n",
    "plt.xlabel('Predicted')\n",
    "plt.ylabel('Truth')\n"
   ]
  },
  {
   "cell_type": "code",
   "execution_count": 17,
   "id": "e55b34d7",
   "metadata": {
    "execution": {
     "iopub.execute_input": "2022-11-11T11:28:32.375961Z",
     "iopub.status.busy": "2022-11-11T11:28:32.375108Z",
     "iopub.status.idle": "2022-11-11T11:28:32.412853Z",
     "shell.execute_reply": "2022-11-11T11:28:32.411853Z"
    },
    "papermill": {
     "duration": 0.212311,
     "end_time": "2022-11-11T11:28:32.415197",
     "exception": false,
     "start_time": "2022-11-11T11:28:32.202886",
     "status": "completed"
    },
    "tags": []
   },
   "outputs": [
    {
     "name": "stdout",
     "output_type": "stream",
     "text": [
      "              precision    recall  f1-score   support\n",
      "\n",
      "           0       0.99      0.98      0.99      1063\n",
      "           1       1.00      0.98      0.99      1182\n",
      "           2       0.98      0.98      0.98      1005\n",
      "           3       0.99      0.99      0.99      1108\n",
      "           4       0.99      0.99      0.99       985\n",
      "           5       0.99      0.99      0.99       940\n",
      "           6       0.98      1.00      0.99      1042\n",
      "           7       0.97      1.00      0.98      1111\n",
      "           8       0.98      0.99      0.98      1021\n",
      "           9       0.99      0.96      0.98      1043\n",
      "\n",
      "    accuracy                           0.99     10500\n",
      "   macro avg       0.99      0.99      0.99     10500\n",
      "weighted avg       0.99      0.99      0.99     10500\n",
      "\n"
     ]
    }
   ],
   "source": [
    "from sklearn.metrics import classification_report\n",
    "\n",
    "print(classification_report(yval,y_predicted_labels))"
   ]
  },
  {
   "cell_type": "code",
   "execution_count": 18,
   "id": "efbe4518",
   "metadata": {
    "execution": {
     "iopub.execute_input": "2022-11-11T11:28:32.748962Z",
     "iopub.status.busy": "2022-11-11T11:28:32.748257Z",
     "iopub.status.idle": "2022-11-11T11:28:38.232158Z",
     "shell.execute_reply": "2022-11-11T11:28:38.230852Z"
    },
    "papermill": {
     "duration": 5.654665,
     "end_time": "2022-11-11T11:28:38.235065",
     "exception": false,
     "start_time": "2022-11-11T11:28:32.580400",
     "status": "completed"
    },
    "tags": []
   },
   "outputs": [
    {
     "name": "stdout",
     "output_type": "stream",
     "text": [
      "875/875 [==============================] - 5s 6ms/step\n"
     ]
    }
   ],
   "source": [
    "X_test=(df_test/255).values.reshape(-1,28,28,1)\n",
    "\n",
    "Y_hat = model1.predict(X_test, verbose=1)\n",
    "Y_pred = np.argmax(Y_hat, axis=1)"
   ]
  },
  {
   "cell_type": "code",
   "execution_count": 19,
   "id": "74c14172",
   "metadata": {
    "execution": {
     "iopub.execute_input": "2022-11-11T11:28:38.592455Z",
     "iopub.status.busy": "2022-11-11T11:28:38.592031Z",
     "iopub.status.idle": "2022-11-11T11:28:38.816507Z",
     "shell.execute_reply": "2022-11-11T11:28:38.815647Z"
    },
    "papermill": {
     "duration": 0.404991,
     "end_time": "2022-11-11T11:28:38.818732",
     "exception": false,
     "start_time": "2022-11-11T11:28:38.413741",
     "status": "completed"
    },
    "tags": []
   },
   "outputs": [
    {
     "data": {
      "text/plain": [
       "<matplotlib.image.AxesImage at 0x7f49c0963910>"
      ]
     },
     "execution_count": 19,
     "metadata": {},
     "output_type": "execute_result"
    },
    {
     "data": {
      "image/png": "[encoded data removed]",
      "text/plain": [
       "<Figure size 432x288 with 1 Axes>"
      ]
     },
     "metadata": {
      "needs_background": "light"
     },
     "output_type": "display_data"
    }
   ],
   "source": [
    "plt.imshow(X_test[0])"
   ]
  },
  {
   "cell_type": "code",
   "execution_count": 20,
   "id": "575b8ab8",
   "metadata": {
    "execution": {
     "iopub.execute_input": "2022-11-11T11:28:39.169881Z",
     "iopub.status.busy": "2022-11-11T11:28:39.169110Z",
     "iopub.status.idle": "2022-11-11T11:28:40.058652Z",
     "shell.execute_reply": "2022-11-11T11:28:40.057718Z"
    },
    "papermill": {
     "duration": 1.067791,
     "end_time": "2022-11-11T11:28:40.060979",
     "exception": false,
     "start_time": "2022-11-11T11:28:38.993188",
     "status": "completed"
    },
    "tags": []
   },
   "outputs": [
    {
     "data": {
      "image/png": "[encoded data removed]",
      "text/plain": [
       "<Figure size 1584x144 with 15 Axes>"
      ]
     },
     "metadata": {
      "needs_background": "light"
     },
     "output_type": "display_data"
    }
   ],
   "source": [
    "def show_image(data,lab,m):\n",
    "    plt.figure(figsize=(22,2))\n",
    "    for i in range(m):\n",
    "        ax = plt.subplot(1, m, i+1)\n",
    "        img=data[i]\n",
    "        plt.imshow(img)\n",
    "        plt.title(\"Digit: {}\".format(lab[i]))\n",
    "        plt.axis('off')\n",
    "show_image(X_test,Y_pred,15)"
   ]
  },
  {
   "cell_type": "code",
   "execution_count": 21,
   "id": "fd977663",
   "metadata": {
    "execution": {
     "iopub.execute_input": "2022-11-11T11:28:40.469735Z",
     "iopub.status.busy": "2022-11-11T11:28:40.469284Z",
     "iopub.status.idle": "2022-11-11T11:28:40.507423Z",
     "shell.execute_reply": "2022-11-11T11:28:40.506135Z"
    },
    "papermill": {
     "duration": 0.218716,
     "end_time": "2022-11-11T11:28:40.510478",
     "exception": false,
     "start_time": "2022-11-11T11:28:40.291762",
     "status": "completed"
    },
    "tags": []
   },
   "outputs": [],
   "source": [
    "results = pd.Series(Y_pred, name=\"Label\")\n",
    "submission = pd.concat([pd.Series(range(1,28001),name = \"ImageId\"),results],axis = 1)\n",
    "submission.to_csv(\"submission.csv\",index=False)"
   ]
  },
  {
   "cell_type": "code",
   "execution_count": null,
   "id": "9ef769b9",
   "metadata": {
    "papermill": {
     "duration": 0.175248,
     "end_time": "2022-11-11T11:28:40.861483",
     "exception": false,
     "start_time": "2022-11-11T11:28:40.686235",
     "status": "completed"
    },
    "tags": []
   },
   "outputs": [],
   "source": []
  },
  {
   "cell_type": "code",
   "execution_count": null,
   "id": "d96864b7",
   "metadata": {
    "papermill": {
     "duration": 0.181892,
     "end_time": "2022-11-11T11:28:41.234363",
     "exception": false,
     "start_time": "2022-11-11T11:28:41.052471",
     "status": "completed"
    },
    "tags": []
   },
   "outputs": [],
   "source": []
  }
 ],
 "metadata": {
  "kernelspec": {
   "display_name": "Python 3",
   "language": "python",
   "name": "python3"
  },
  "language_info": {
   "codemirror_mode": {
    "name": "ipython",
    "version": 3
   },
   "file_extension": ".py",
   "mimetype": "text/x-python",
   "name": "python",
   "nbconvert_exporter": "python",
   "pygments_lexer": "ipython3",
   "version": "3.7.12"
  },
  "papermill": {
   "default_parameters": {},
   "duration": 245.428737,
   "end_time": "2022-11-11T11:28:44.430647",
   "environment_variables": {},
   "exception": null,
   "input_path": "__notebook__.ipynb",
   "output_path": "__notebook__.ipynb",
   "parameters": {},
   "start_time": "2022-11-11T11:24:39.001910",
   "version": "2.3.4"
  }
 },
 "nbformat": 4,
 "nbformat_minor": 5
}
